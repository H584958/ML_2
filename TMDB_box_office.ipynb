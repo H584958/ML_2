{
 "cells": [
  {
   "cell_type": "code",
   "execution_count": 1,
   "id": "5c71c4f5",
   "metadata": {},
   "outputs": [],
   "source": [
    "import numpy as np\n",
    "import pandas as pd\n",
    "import matplotlib.pyplot as plt"
   ]
  },
  {
   "cell_type": "code",
   "execution_count": 2,
   "id": "9b1fc52c",
   "metadata": {},
   "outputs": [],
   "source": [
    "train_ = pd.read_csv('data/train.csv')\n",
    "test_ = pd.read_csv('data/test.csv')\n",
    "\n",
    "train = train_.copy()\n",
    "test = test_.copy()\n",
    "\n",
    "test_id = test['id'].copy()"
   ]
  },
  {
   "cell_type": "code",
   "execution_count": 3,
   "id": "98860f4e",
   "metadata": {},
   "outputs": [
    {
     "data": {
      "text/html": [
       "<div>\n",
       "<style scoped>\n",
       "    .dataframe tbody tr th:only-of-type {\n",
       "        vertical-align: middle;\n",
       "    }\n",
       "\n",
       "    .dataframe tbody tr th {\n",
       "        vertical-align: top;\n",
       "    }\n",
       "\n",
       "    .dataframe thead th {\n",
       "        text-align: right;\n",
       "    }\n",
       "</style>\n",
       "<table border=\"1\" class=\"dataframe\">\n",
       "  <thead>\n",
       "    <tr style=\"text-align: right;\">\n",
       "      <th></th>\n",
       "      <th>id</th>\n",
       "      <th>belongs_to_collection</th>\n",
       "      <th>budget</th>\n",
       "      <th>genres</th>\n",
       "      <th>homepage</th>\n",
       "      <th>imdb_id</th>\n",
       "      <th>original_language</th>\n",
       "      <th>original_title</th>\n",
       "      <th>overview</th>\n",
       "      <th>popularity</th>\n",
       "      <th>...</th>\n",
       "      <th>release_date</th>\n",
       "      <th>runtime</th>\n",
       "      <th>spoken_languages</th>\n",
       "      <th>status</th>\n",
       "      <th>tagline</th>\n",
       "      <th>title</th>\n",
       "      <th>Keywords</th>\n",
       "      <th>cast</th>\n",
       "      <th>crew</th>\n",
       "      <th>revenue</th>\n",
       "    </tr>\n",
       "  </thead>\n",
       "  <tbody>\n",
       "    <tr>\n",
       "      <th>0</th>\n",
       "      <td>1</td>\n",
       "      <td>[{'id': 313576, 'name': 'Hot Tub Time Machine ...</td>\n",
       "      <td>14000000</td>\n",
       "      <td>[{'id': 35, 'name': 'Comedy'}]</td>\n",
       "      <td>NaN</td>\n",
       "      <td>tt2637294</td>\n",
       "      <td>en</td>\n",
       "      <td>Hot Tub Time Machine 2</td>\n",
       "      <td>When Lou, who has become the \"father of the In...</td>\n",
       "      <td>6.575393</td>\n",
       "      <td>...</td>\n",
       "      <td>2/20/15</td>\n",
       "      <td>93.0</td>\n",
       "      <td>[{'iso_639_1': 'en', 'name': 'English'}]</td>\n",
       "      <td>Released</td>\n",
       "      <td>The Laws of Space and Time are About to be Vio...</td>\n",
       "      <td>Hot Tub Time Machine 2</td>\n",
       "      <td>[{'id': 4379, 'name': 'time travel'}, {'id': 9...</td>\n",
       "      <td>[{'cast_id': 4, 'character': 'Lou', 'credit_id...</td>\n",
       "      <td>[{'credit_id': '59ac067c92514107af02c8c8', 'de...</td>\n",
       "      <td>12314651</td>\n",
       "    </tr>\n",
       "    <tr>\n",
       "      <th>1</th>\n",
       "      <td>2</td>\n",
       "      <td>[{'id': 107674, 'name': 'The Princess Diaries ...</td>\n",
       "      <td>40000000</td>\n",
       "      <td>[{'id': 35, 'name': 'Comedy'}, {'id': 18, 'nam...</td>\n",
       "      <td>NaN</td>\n",
       "      <td>tt0368933</td>\n",
       "      <td>en</td>\n",
       "      <td>The Princess Diaries 2: Royal Engagement</td>\n",
       "      <td>Mia Thermopolis is now a college graduate and ...</td>\n",
       "      <td>8.248895</td>\n",
       "      <td>...</td>\n",
       "      <td>8/6/04</td>\n",
       "      <td>113.0</td>\n",
       "      <td>[{'iso_639_1': 'en', 'name': 'English'}]</td>\n",
       "      <td>Released</td>\n",
       "      <td>It can take a lifetime to find true love; she'...</td>\n",
       "      <td>The Princess Diaries 2: Royal Engagement</td>\n",
       "      <td>[{'id': 2505, 'name': 'coronation'}, {'id': 42...</td>\n",
       "      <td>[{'cast_id': 1, 'character': 'Mia Thermopolis'...</td>\n",
       "      <td>[{'credit_id': '52fe43fe9251416c7502563d', 'de...</td>\n",
       "      <td>95149435</td>\n",
       "    </tr>\n",
       "    <tr>\n",
       "      <th>2</th>\n",
       "      <td>3</td>\n",
       "      <td>NaN</td>\n",
       "      <td>3300000</td>\n",
       "      <td>[{'id': 18, 'name': 'Drama'}]</td>\n",
       "      <td>http://sonyclassics.com/whiplash/</td>\n",
       "      <td>tt2582802</td>\n",
       "      <td>en</td>\n",
       "      <td>Whiplash</td>\n",
       "      <td>Under the direction of a ruthless instructor, ...</td>\n",
       "      <td>64.299990</td>\n",
       "      <td>...</td>\n",
       "      <td>10/10/14</td>\n",
       "      <td>105.0</td>\n",
       "      <td>[{'iso_639_1': 'en', 'name': 'English'}]</td>\n",
       "      <td>Released</td>\n",
       "      <td>The road to greatness can take you to the edge.</td>\n",
       "      <td>Whiplash</td>\n",
       "      <td>[{'id': 1416, 'name': 'jazz'}, {'id': 1523, 'n...</td>\n",
       "      <td>[{'cast_id': 5, 'character': 'Andrew Neimann',...</td>\n",
       "      <td>[{'credit_id': '54d5356ec3a3683ba0000039', 'de...</td>\n",
       "      <td>13092000</td>\n",
       "    </tr>\n",
       "    <tr>\n",
       "      <th>3</th>\n",
       "      <td>4</td>\n",
       "      <td>NaN</td>\n",
       "      <td>1200000</td>\n",
       "      <td>[{'id': 53, 'name': 'Thriller'}, {'id': 18, 'n...</td>\n",
       "      <td>http://kahaanithefilm.com/</td>\n",
       "      <td>tt1821480</td>\n",
       "      <td>hi</td>\n",
       "      <td>Kahaani</td>\n",
       "      <td>Vidya Bagchi (Vidya Balan) arrives in Kolkata ...</td>\n",
       "      <td>3.174936</td>\n",
       "      <td>...</td>\n",
       "      <td>3/9/12</td>\n",
       "      <td>122.0</td>\n",
       "      <td>[{'iso_639_1': 'en', 'name': 'English'}, {'iso...</td>\n",
       "      <td>Released</td>\n",
       "      <td>NaN</td>\n",
       "      <td>Kahaani</td>\n",
       "      <td>[{'id': 10092, 'name': 'mystery'}, {'id': 1054...</td>\n",
       "      <td>[{'cast_id': 1, 'character': 'Vidya Bagchi', '...</td>\n",
       "      <td>[{'credit_id': '52fe48779251416c9108d6eb', 'de...</td>\n",
       "      <td>16000000</td>\n",
       "    </tr>\n",
       "    <tr>\n",
       "      <th>4</th>\n",
       "      <td>5</td>\n",
       "      <td>NaN</td>\n",
       "      <td>0</td>\n",
       "      <td>[{'id': 28, 'name': 'Action'}, {'id': 53, 'nam...</td>\n",
       "      <td>NaN</td>\n",
       "      <td>tt1380152</td>\n",
       "      <td>ko</td>\n",
       "      <td>마린보이</td>\n",
       "      <td>Marine Boy is the story of a former national s...</td>\n",
       "      <td>1.148070</td>\n",
       "      <td>...</td>\n",
       "      <td>2/5/09</td>\n",
       "      <td>118.0</td>\n",
       "      <td>[{'iso_639_1': 'ko', 'name': '한국어/조선말'}]</td>\n",
       "      <td>Released</td>\n",
       "      <td>NaN</td>\n",
       "      <td>Marine Boy</td>\n",
       "      <td>NaN</td>\n",
       "      <td>[{'cast_id': 3, 'character': 'Chun-soo', 'cred...</td>\n",
       "      <td>[{'credit_id': '52fe464b9251416c75073b43', 'de...</td>\n",
       "      <td>3923970</td>\n",
       "    </tr>\n",
       "  </tbody>\n",
       "</table>\n",
       "<p>5 rows × 23 columns</p>\n",
       "</div>"
      ],
      "text/plain": [
       "   id                              belongs_to_collection    budget  \\\n",
       "0   1  [{'id': 313576, 'name': 'Hot Tub Time Machine ...  14000000   \n",
       "1   2  [{'id': 107674, 'name': 'The Princess Diaries ...  40000000   \n",
       "2   3                                                NaN   3300000   \n",
       "3   4                                                NaN   1200000   \n",
       "4   5                                                NaN         0   \n",
       "\n",
       "                                              genres  \\\n",
       "0                     [{'id': 35, 'name': 'Comedy'}]   \n",
       "1  [{'id': 35, 'name': 'Comedy'}, {'id': 18, 'nam...   \n",
       "2                      [{'id': 18, 'name': 'Drama'}]   \n",
       "3  [{'id': 53, 'name': 'Thriller'}, {'id': 18, 'n...   \n",
       "4  [{'id': 28, 'name': 'Action'}, {'id': 53, 'nam...   \n",
       "\n",
       "                            homepage    imdb_id original_language  \\\n",
       "0                                NaN  tt2637294                en   \n",
       "1                                NaN  tt0368933                en   \n",
       "2  http://sonyclassics.com/whiplash/  tt2582802                en   \n",
       "3         http://kahaanithefilm.com/  tt1821480                hi   \n",
       "4                                NaN  tt1380152                ko   \n",
       "\n",
       "                             original_title  \\\n",
       "0                    Hot Tub Time Machine 2   \n",
       "1  The Princess Diaries 2: Royal Engagement   \n",
       "2                                  Whiplash   \n",
       "3                                   Kahaani   \n",
       "4                                      마린보이   \n",
       "\n",
       "                                            overview  popularity  ...  \\\n",
       "0  When Lou, who has become the \"father of the In...    6.575393  ...   \n",
       "1  Mia Thermopolis is now a college graduate and ...    8.248895  ...   \n",
       "2  Under the direction of a ruthless instructor, ...   64.299990  ...   \n",
       "3  Vidya Bagchi (Vidya Balan) arrives in Kolkata ...    3.174936  ...   \n",
       "4  Marine Boy is the story of a former national s...    1.148070  ...   \n",
       "\n",
       "  release_date runtime                                   spoken_languages  \\\n",
       "0      2/20/15    93.0           [{'iso_639_1': 'en', 'name': 'English'}]   \n",
       "1       8/6/04   113.0           [{'iso_639_1': 'en', 'name': 'English'}]   \n",
       "2     10/10/14   105.0           [{'iso_639_1': 'en', 'name': 'English'}]   \n",
       "3       3/9/12   122.0  [{'iso_639_1': 'en', 'name': 'English'}, {'iso...   \n",
       "4       2/5/09   118.0           [{'iso_639_1': 'ko', 'name': '한국어/조선말'}]   \n",
       "\n",
       "     status                                            tagline  \\\n",
       "0  Released  The Laws of Space and Time are About to be Vio...   \n",
       "1  Released  It can take a lifetime to find true love; she'...   \n",
       "2  Released    The road to greatness can take you to the edge.   \n",
       "3  Released                                                NaN   \n",
       "4  Released                                                NaN   \n",
       "\n",
       "                                      title  \\\n",
       "0                    Hot Tub Time Machine 2   \n",
       "1  The Princess Diaries 2: Royal Engagement   \n",
       "2                                  Whiplash   \n",
       "3                                   Kahaani   \n",
       "4                                Marine Boy   \n",
       "\n",
       "                                            Keywords  \\\n",
       "0  [{'id': 4379, 'name': 'time travel'}, {'id': 9...   \n",
       "1  [{'id': 2505, 'name': 'coronation'}, {'id': 42...   \n",
       "2  [{'id': 1416, 'name': 'jazz'}, {'id': 1523, 'n...   \n",
       "3  [{'id': 10092, 'name': 'mystery'}, {'id': 1054...   \n",
       "4                                                NaN   \n",
       "\n",
       "                                                cast  \\\n",
       "0  [{'cast_id': 4, 'character': 'Lou', 'credit_id...   \n",
       "1  [{'cast_id': 1, 'character': 'Mia Thermopolis'...   \n",
       "2  [{'cast_id': 5, 'character': 'Andrew Neimann',...   \n",
       "3  [{'cast_id': 1, 'character': 'Vidya Bagchi', '...   \n",
       "4  [{'cast_id': 3, 'character': 'Chun-soo', 'cred...   \n",
       "\n",
       "                                                crew   revenue  \n",
       "0  [{'credit_id': '59ac067c92514107af02c8c8', 'de...  12314651  \n",
       "1  [{'credit_id': '52fe43fe9251416c7502563d', 'de...  95149435  \n",
       "2  [{'credit_id': '54d5356ec3a3683ba0000039', 'de...  13092000  \n",
       "3  [{'credit_id': '52fe48779251416c9108d6eb', 'de...  16000000  \n",
       "4  [{'credit_id': '52fe464b9251416c75073b43', 'de...   3923970  \n",
       "\n",
       "[5 rows x 23 columns]"
      ]
     },
     "execution_count": 3,
     "metadata": {},
     "output_type": "execute_result"
    }
   ],
   "source": [
    "train.head()"
   ]
  },
  {
   "cell_type": "code",
   "execution_count": 4,
   "id": "9e2bc336",
   "metadata": {},
   "outputs": [
    {
     "data": {
      "text/html": [
       "<div>\n",
       "<style scoped>\n",
       "    .dataframe tbody tr th:only-of-type {\n",
       "        vertical-align: middle;\n",
       "    }\n",
       "\n",
       "    .dataframe tbody tr th {\n",
       "        vertical-align: top;\n",
       "    }\n",
       "\n",
       "    .dataframe thead th {\n",
       "        text-align: right;\n",
       "    }\n",
       "</style>\n",
       "<table border=\"1\" class=\"dataframe\">\n",
       "  <thead>\n",
       "    <tr style=\"text-align: right;\">\n",
       "      <th></th>\n",
       "      <th>id</th>\n",
       "      <th>belongs_to_collection</th>\n",
       "      <th>budget</th>\n",
       "      <th>genres</th>\n",
       "      <th>homepage</th>\n",
       "      <th>imdb_id</th>\n",
       "      <th>original_language</th>\n",
       "      <th>original_title</th>\n",
       "      <th>overview</th>\n",
       "      <th>popularity</th>\n",
       "      <th>...</th>\n",
       "      <th>production_countries</th>\n",
       "      <th>release_date</th>\n",
       "      <th>runtime</th>\n",
       "      <th>spoken_languages</th>\n",
       "      <th>status</th>\n",
       "      <th>tagline</th>\n",
       "      <th>title</th>\n",
       "      <th>Keywords</th>\n",
       "      <th>cast</th>\n",
       "      <th>crew</th>\n",
       "    </tr>\n",
       "  </thead>\n",
       "  <tbody>\n",
       "    <tr>\n",
       "      <th>0</th>\n",
       "      <td>3001</td>\n",
       "      <td>[{'id': 34055, 'name': 'Pokémon Collection', '...</td>\n",
       "      <td>0</td>\n",
       "      <td>[{'id': 12, 'name': 'Adventure'}, {'id': 16, '...</td>\n",
       "      <td>http://www.pokemon.com/us/movies/movie-pokemon...</td>\n",
       "      <td>tt1226251</td>\n",
       "      <td>ja</td>\n",
       "      <td>ディアルガVSパルキアVSダークライ</td>\n",
       "      <td>Ash and friends (this time accompanied by newc...</td>\n",
       "      <td>3.851534</td>\n",
       "      <td>...</td>\n",
       "      <td>[{'iso_3166_1': 'JP', 'name': 'Japan'}, {'iso_...</td>\n",
       "      <td>7/14/07</td>\n",
       "      <td>90.0</td>\n",
       "      <td>[{'iso_639_1': 'en', 'name': 'English'}, {'iso...</td>\n",
       "      <td>Released</td>\n",
       "      <td>Somewhere Between Time &amp; Space... A Legend Is ...</td>\n",
       "      <td>Pokémon: The Rise of Darkrai</td>\n",
       "      <td>[{'id': 11451, 'name': 'pok√©mon'}, {'id': 115...</td>\n",
       "      <td>[{'cast_id': 3, 'character': 'Tonio', 'credit_...</td>\n",
       "      <td>[{'credit_id': '52fe44e7c3a368484e03d683', 'de...</td>\n",
       "    </tr>\n",
       "    <tr>\n",
       "      <th>1</th>\n",
       "      <td>3002</td>\n",
       "      <td>NaN</td>\n",
       "      <td>88000</td>\n",
       "      <td>[{'id': 27, 'name': 'Horror'}, {'id': 878, 'na...</td>\n",
       "      <td>NaN</td>\n",
       "      <td>tt0051380</td>\n",
       "      <td>en</td>\n",
       "      <td>Attack of the 50 Foot Woman</td>\n",
       "      <td>When an abused wife grows to giant size becaus...</td>\n",
       "      <td>3.559789</td>\n",
       "      <td>...</td>\n",
       "      <td>[{'iso_3166_1': 'US', 'name': 'United States o...</td>\n",
       "      <td>5/19/58</td>\n",
       "      <td>65.0</td>\n",
       "      <td>[{'iso_639_1': 'en', 'name': 'English'}]</td>\n",
       "      <td>Released</td>\n",
       "      <td>A titanic beauty spreads a macabre wave of hor...</td>\n",
       "      <td>Attack of the 50 Foot Woman</td>\n",
       "      <td>[{'id': 9748, 'name': 'revenge'}, {'id': 9951,...</td>\n",
       "      <td>[{'cast_id': 2, 'character': 'Nancy Fowler Arc...</td>\n",
       "      <td>[{'credit_id': '55807805c3a3685b1300060b', 'de...</td>\n",
       "    </tr>\n",
       "    <tr>\n",
       "      <th>2</th>\n",
       "      <td>3003</td>\n",
       "      <td>NaN</td>\n",
       "      <td>0</td>\n",
       "      <td>[{'id': 35, 'name': 'Comedy'}, {'id': 10749, '...</td>\n",
       "      <td>NaN</td>\n",
       "      <td>tt0118556</td>\n",
       "      <td>en</td>\n",
       "      <td>Addicted to Love</td>\n",
       "      <td>Good-natured astronomer Sam is devastated when...</td>\n",
       "      <td>8.085194</td>\n",
       "      <td>...</td>\n",
       "      <td>[{'iso_3166_1': 'US', 'name': 'United States o...</td>\n",
       "      <td>5/23/97</td>\n",
       "      <td>100.0</td>\n",
       "      <td>[{'iso_639_1': 'en', 'name': 'English'}]</td>\n",
       "      <td>Released</td>\n",
       "      <td>A Comedy About Lost Loves And Last Laughs</td>\n",
       "      <td>Addicted to Love</td>\n",
       "      <td>[{'id': 931, 'name': 'jealousy'}, {'id': 9673,...</td>\n",
       "      <td>[{'cast_id': 11, 'character': 'Maggie', 'credi...</td>\n",
       "      <td>[{'credit_id': '52fe4330c3a36847f8041367', 'de...</td>\n",
       "    </tr>\n",
       "    <tr>\n",
       "      <th>3</th>\n",
       "      <td>3004</td>\n",
       "      <td>NaN</td>\n",
       "      <td>6800000</td>\n",
       "      <td>[{'id': 18, 'name': 'Drama'}, {'id': 10752, 'n...</td>\n",
       "      <td>http://www.sonyclassics.com/incendies/</td>\n",
       "      <td>tt1255953</td>\n",
       "      <td>fr</td>\n",
       "      <td>Incendies</td>\n",
       "      <td>A mother's last wishes send twins Jeanne and S...</td>\n",
       "      <td>8.596012</td>\n",
       "      <td>...</td>\n",
       "      <td>[{'iso_3166_1': 'CA', 'name': 'Canada'}, {'iso...</td>\n",
       "      <td>9/4/10</td>\n",
       "      <td>130.0</td>\n",
       "      <td>[{'iso_639_1': 'fr', 'name': 'Français'}, {'is...</td>\n",
       "      <td>Released</td>\n",
       "      <td>The search began at the opening of their mothe...</td>\n",
       "      <td>Incendies</td>\n",
       "      <td>[{'id': 378, 'name': 'prison'}, {'id': 539, 'n...</td>\n",
       "      <td>[{'cast_id': 6, 'character': 'Nawal', 'credit_...</td>\n",
       "      <td>[{'credit_id': '56478092c3a36826140043af', 'de...</td>\n",
       "    </tr>\n",
       "    <tr>\n",
       "      <th>4</th>\n",
       "      <td>3005</td>\n",
       "      <td>NaN</td>\n",
       "      <td>2000000</td>\n",
       "      <td>[{'id': 36, 'name': 'History'}, {'id': 99, 'na...</td>\n",
       "      <td>NaN</td>\n",
       "      <td>tt0418753</td>\n",
       "      <td>en</td>\n",
       "      <td>Inside Deep Throat</td>\n",
       "      <td>In 1972, a seemingly typical shoestring budget...</td>\n",
       "      <td>3.217680</td>\n",
       "      <td>...</td>\n",
       "      <td>[{'iso_3166_1': 'US', 'name': 'United States o...</td>\n",
       "      <td>2/11/05</td>\n",
       "      <td>92.0</td>\n",
       "      <td>[{'iso_639_1': 'en', 'name': 'English'}]</td>\n",
       "      <td>Released</td>\n",
       "      <td>It was filmed in 6 days for 25 thousand dollar...</td>\n",
       "      <td>Inside Deep Throat</td>\n",
       "      <td>[{'id': 279, 'name': 'usa'}, {'id': 1228, 'nam...</td>\n",
       "      <td>[{'cast_id': 1, 'character': 'Narrator (voice)...</td>\n",
       "      <td>[{'credit_id': '52fe44ce9251416c75041967', 'de...</td>\n",
       "    </tr>\n",
       "  </tbody>\n",
       "</table>\n",
       "<p>5 rows × 22 columns</p>\n",
       "</div>"
      ],
      "text/plain": [
       "     id                              belongs_to_collection   budget  \\\n",
       "0  3001  [{'id': 34055, 'name': 'Pokémon Collection', '...        0   \n",
       "1  3002                                                NaN    88000   \n",
       "2  3003                                                NaN        0   \n",
       "3  3004                                                NaN  6800000   \n",
       "4  3005                                                NaN  2000000   \n",
       "\n",
       "                                              genres  \\\n",
       "0  [{'id': 12, 'name': 'Adventure'}, {'id': 16, '...   \n",
       "1  [{'id': 27, 'name': 'Horror'}, {'id': 878, 'na...   \n",
       "2  [{'id': 35, 'name': 'Comedy'}, {'id': 10749, '...   \n",
       "3  [{'id': 18, 'name': 'Drama'}, {'id': 10752, 'n...   \n",
       "4  [{'id': 36, 'name': 'History'}, {'id': 99, 'na...   \n",
       "\n",
       "                                            homepage    imdb_id  \\\n",
       "0  http://www.pokemon.com/us/movies/movie-pokemon...  tt1226251   \n",
       "1                                                NaN  tt0051380   \n",
       "2                                                NaN  tt0118556   \n",
       "3             http://www.sonyclassics.com/incendies/  tt1255953   \n",
       "4                                                NaN  tt0418753   \n",
       "\n",
       "  original_language               original_title  \\\n",
       "0                ja           ディアルガVSパルキアVSダークライ   \n",
       "1                en  Attack of the 50 Foot Woman   \n",
       "2                en             Addicted to Love   \n",
       "3                fr                    Incendies   \n",
       "4                en           Inside Deep Throat   \n",
       "\n",
       "                                            overview  popularity  ...  \\\n",
       "0  Ash and friends (this time accompanied by newc...    3.851534  ...   \n",
       "1  When an abused wife grows to giant size becaus...    3.559789  ...   \n",
       "2  Good-natured astronomer Sam is devastated when...    8.085194  ...   \n",
       "3  A mother's last wishes send twins Jeanne and S...    8.596012  ...   \n",
       "4  In 1972, a seemingly typical shoestring budget...    3.217680  ...   \n",
       "\n",
       "                                production_countries release_date runtime  \\\n",
       "0  [{'iso_3166_1': 'JP', 'name': 'Japan'}, {'iso_...      7/14/07    90.0   \n",
       "1  [{'iso_3166_1': 'US', 'name': 'United States o...      5/19/58    65.0   \n",
       "2  [{'iso_3166_1': 'US', 'name': 'United States o...      5/23/97   100.0   \n",
       "3  [{'iso_3166_1': 'CA', 'name': 'Canada'}, {'iso...       9/4/10   130.0   \n",
       "4  [{'iso_3166_1': 'US', 'name': 'United States o...      2/11/05    92.0   \n",
       "\n",
       "                                    spoken_languages    status  \\\n",
       "0  [{'iso_639_1': 'en', 'name': 'English'}, {'iso...  Released   \n",
       "1           [{'iso_639_1': 'en', 'name': 'English'}]  Released   \n",
       "2           [{'iso_639_1': 'en', 'name': 'English'}]  Released   \n",
       "3  [{'iso_639_1': 'fr', 'name': 'Français'}, {'is...  Released   \n",
       "4           [{'iso_639_1': 'en', 'name': 'English'}]  Released   \n",
       "\n",
       "                                             tagline  \\\n",
       "0  Somewhere Between Time & Space... A Legend Is ...   \n",
       "1  A titanic beauty spreads a macabre wave of hor...   \n",
       "2          A Comedy About Lost Loves And Last Laughs   \n",
       "3  The search began at the opening of their mothe...   \n",
       "4  It was filmed in 6 days for 25 thousand dollar...   \n",
       "\n",
       "                          title  \\\n",
       "0  Pokémon: The Rise of Darkrai   \n",
       "1   Attack of the 50 Foot Woman   \n",
       "2              Addicted to Love   \n",
       "3                     Incendies   \n",
       "4            Inside Deep Throat   \n",
       "\n",
       "                                            Keywords  \\\n",
       "0  [{'id': 11451, 'name': 'pok√©mon'}, {'id': 115...   \n",
       "1  [{'id': 9748, 'name': 'revenge'}, {'id': 9951,...   \n",
       "2  [{'id': 931, 'name': 'jealousy'}, {'id': 9673,...   \n",
       "3  [{'id': 378, 'name': 'prison'}, {'id': 539, 'n...   \n",
       "4  [{'id': 279, 'name': 'usa'}, {'id': 1228, 'nam...   \n",
       "\n",
       "                                                cast  \\\n",
       "0  [{'cast_id': 3, 'character': 'Tonio', 'credit_...   \n",
       "1  [{'cast_id': 2, 'character': 'Nancy Fowler Arc...   \n",
       "2  [{'cast_id': 11, 'character': 'Maggie', 'credi...   \n",
       "3  [{'cast_id': 6, 'character': 'Nawal', 'credit_...   \n",
       "4  [{'cast_id': 1, 'character': 'Narrator (voice)...   \n",
       "\n",
       "                                                crew  \n",
       "0  [{'credit_id': '52fe44e7c3a368484e03d683', 'de...  \n",
       "1  [{'credit_id': '55807805c3a3685b1300060b', 'de...  \n",
       "2  [{'credit_id': '52fe4330c3a36847f8041367', 'de...  \n",
       "3  [{'credit_id': '56478092c3a36826140043af', 'de...  \n",
       "4  [{'credit_id': '52fe44ce9251416c75041967', 'de...  \n",
       "\n",
       "[5 rows x 22 columns]"
      ]
     },
     "execution_count": 4,
     "metadata": {},
     "output_type": "execute_result"
    }
   ],
   "source": [
    "test.head()"
   ]
  },
  {
   "cell_type": "code",
   "execution_count": 5,
   "id": "8d42640b",
   "metadata": {},
   "outputs": [
    {
     "name": "stdout",
     "output_type": "stream",
     "text": [
      "<class 'pandas.core.frame.DataFrame'>\n",
      "RangeIndex: 3000 entries, 0 to 2999\n",
      "Data columns (total 23 columns):\n",
      " #   Column                 Non-Null Count  Dtype  \n",
      "---  ------                 --------------  -----  \n",
      " 0   id                     3000 non-null   int64  \n",
      " 1   belongs_to_collection  604 non-null    object \n",
      " 2   budget                 3000 non-null   int64  \n",
      " 3   genres                 2993 non-null   object \n",
      " 4   homepage               946 non-null    object \n",
      " 5   imdb_id                3000 non-null   object \n",
      " 6   original_language      3000 non-null   object \n",
      " 7   original_title         3000 non-null   object \n",
      " 8   overview               2992 non-null   object \n",
      " 9   popularity             3000 non-null   float64\n",
      " 10  poster_path            2999 non-null   object \n",
      " 11  production_companies   2844 non-null   object \n",
      " 12  production_countries   2945 non-null   object \n",
      " 13  release_date           3000 non-null   object \n",
      " 14  runtime                2998 non-null   float64\n",
      " 15  spoken_languages       2980 non-null   object \n",
      " 16  status                 3000 non-null   object \n",
      " 17  tagline                2403 non-null   object \n",
      " 18  title                  3000 non-null   object \n",
      " 19  Keywords               2724 non-null   object \n",
      " 20  cast                   2987 non-null   object \n",
      " 21  crew                   2984 non-null   object \n",
      " 22  revenue                3000 non-null   int64  \n",
      "dtypes: float64(2), int64(3), object(18)\n",
      "memory usage: 539.2+ KB\n"
     ]
    }
   ],
   "source": [
    "train.info()"
   ]
  },
  {
   "cell_type": "code",
   "execution_count": 6,
   "id": "7ef90f6f",
   "metadata": {},
   "outputs": [
    {
     "name": "stdout",
     "output_type": "stream",
     "text": [
      "<class 'pandas.core.frame.DataFrame'>\n",
      "RangeIndex: 4398 entries, 0 to 4397\n",
      "Data columns (total 22 columns):\n",
      " #   Column                 Non-Null Count  Dtype  \n",
      "---  ------                 --------------  -----  \n",
      " 0   id                     4398 non-null   int64  \n",
      " 1   belongs_to_collection  877 non-null    object \n",
      " 2   budget                 4398 non-null   int64  \n",
      " 3   genres                 4382 non-null   object \n",
      " 4   homepage               1420 non-null   object \n",
      " 5   imdb_id                4398 non-null   object \n",
      " 6   original_language      4398 non-null   object \n",
      " 7   original_title         4398 non-null   object \n",
      " 8   overview               4384 non-null   object \n",
      " 9   popularity             4398 non-null   float64\n",
      " 10  poster_path            4397 non-null   object \n",
      " 11  production_companies   4140 non-null   object \n",
      " 12  production_countries   4296 non-null   object \n",
      " 13  release_date           4397 non-null   object \n",
      " 14  runtime                4394 non-null   float64\n",
      " 15  spoken_languages       4356 non-null   object \n",
      " 16  status                 4396 non-null   object \n",
      " 17  tagline                3535 non-null   object \n",
      " 18  title                  4395 non-null   object \n",
      " 19  Keywords               4005 non-null   object \n",
      " 20  cast                   4385 non-null   object \n",
      " 21  crew                   4376 non-null   object \n",
      "dtypes: float64(2), int64(2), object(18)\n",
      "memory usage: 756.0+ KB\n"
     ]
    }
   ],
   "source": [
    "test.info()"
   ]
  },
  {
   "cell_type": "markdown",
   "id": "6ce6f990",
   "metadata": {},
   "source": [
    "# fixing data set"
   ]
  },
  {
   "cell_type": "markdown",
   "id": "7e4a658f",
   "metadata": {},
   "source": [
    "Starting by finding relevant data. Here we check if there are some relevant information in objects and if some can be relevant. In general just checking if data should be in the model."
   ]
  },
  {
   "cell_type": "markdown",
   "id": "1b62a292",
   "metadata": {},
   "source": [
    "### Budget"
   ]
  },
  {
   "cell_type": "code",
   "execution_count": 7,
   "id": "ed8ea9cb",
   "metadata": {},
   "outputs": [
    {
     "data": {
      "text/plain": [
       "<AxesSubplot:xlabel='budget', ylabel='revenue'>"
      ]
     },
     "execution_count": 7,
     "metadata": {},
     "output_type": "execute_result"
    },
    {
     "data": {
      "image/png": "[encoded data removed]",
      "text/plain": [
       "<Figure size 432x288 with 1 Axes>"
      ]
     },
     "metadata": {
      "needs_background": "light"
     },
     "output_type": "display_data"
    }
   ],
   "source": [
    "train.plot(kind=\"scatter\", x=\"budget\", y=\"revenue\", alpha=0.2)"
   ]
  },
  {
   "cell_type": "markdown",
   "id": "b9bedd27",
   "metadata": {},
   "source": [
    "Here we can see that it can be considered linear, and is threrefor very relevant."
   ]
  },
  {
   "cell_type": "markdown",
   "id": "baeeb54b",
   "metadata": {},
   "source": [
    "### Popularity"
   ]
  },
  {
   "cell_type": "code",
   "execution_count": 8,
   "id": "9d1aa0e8",
   "metadata": {},
   "outputs": [
    {
     "data": {
      "text/plain": [
       "<AxesSubplot:xlabel='popularity', ylabel='revenue'>"
      ]
     },
     "execution_count": 8,
     "metadata": {},
     "output_type": "execute_result"
    },
    {
     "data": {
      "image/png": "[encoded data removed]",
      "text/plain": [
       "<Figure size 432x288 with 1 Axes>"
      ]
     },
     "metadata": {
      "needs_background": "light"
     },
     "output_type": "display_data"
    }
   ],
   "source": [
    "train.plot(kind=\"scatter\", x=\"popularity\", y=\"revenue\", alpha=0.2)"
   ]
  },
  {
   "cell_type": "markdown",
   "id": "d8435fac",
   "metadata": {},
   "source": [
    "Seems less relevant then \"budget\", but is still good for now."
   ]
  },
  {
   "cell_type": "markdown",
   "id": "57bca622",
   "metadata": {},
   "source": [
    "### Belongs_to_collection"
   ]
  },
  {
   "cell_type": "code",
   "execution_count": 8,
   "id": "3fa00aa0",
   "metadata": {},
   "outputs": [
    {
     "data": {
      "text/plain": [
       "0     [{'id': 313576, 'name': 'Hot Tub Time Machine ...\n",
       "1     [{'id': 107674, 'name': 'The Princess Diaries ...\n",
       "2                                                   NaN\n",
       "3                                                   NaN\n",
       "4                                                   NaN\n",
       "5                                                   NaN\n",
       "6                                                   NaN\n",
       "7                                                   NaN\n",
       "8     [{'id': 256377, 'name': 'The Muppet Collection...\n",
       "9                                                   NaN\n",
       "10    [{'id': 1575, 'name': 'Rocky Collection', 'pos...\n",
       "11    [{'id': 48190, 'name': 'Revenge of the Nerds C...\n",
       "12                                                  NaN\n",
       "13    [{'id': 91698, 'name': 'Chili Palmer Collectio...\n",
       "14                                                  NaN\n",
       "15                                                  NaN\n",
       "16                                                  NaN\n",
       "17                                                  NaN\n",
       "18                                                  NaN\n",
       "19    [{'id': 9518, 'name': 'The Transporter Collect...\n",
       "Name: belongs_to_collection, dtype: object"
      ]
     },
     "execution_count": 8,
     "metadata": {},
     "output_type": "execute_result"
    }
   ],
   "source": [
    "train[\"belongs_to_collection\"].head(20)"
   ]
  },
  {
   "cell_type": "code",
   "execution_count": 9,
   "id": "d704919f",
   "metadata": {},
   "outputs": [
    {
     "name": "stdout",
     "output_type": "stream",
     "text": [
      "[{'id': 313576, 'name': 'Hot Tub Time Machine Collection', 'poster_path': '/iEhb00TGPucF0b4joM1ieyY026U.jpg', 'backdrop_path': '/noeTVcgpBiD48fDjFVic1Vz7ope.jpg'}]\n"
     ]
    }
   ],
   "source": [
    "print(train[\"belongs_to_collection\"][0])"
   ]
  },
  {
   "cell_type": "markdown",
   "id": "42315359",
   "metadata": {},
   "source": [
    "Dont see any relevant data in the object, but we can check if having a collection is relevant."
   ]
  },
  {
   "cell_type": "code",
   "execution_count": 10,
   "id": "13f1c7b2",
   "metadata": {},
   "outputs": [],
   "source": [
    "train[\"has_collection\"] = train[\"belongs_to_collection\"].apply(lambda x: 0 if x is np.nan else 1)\n",
    "test[\"has_collection\"] = test[\"belongs_to_collection\"].apply(lambda x: 0 if x is np.nan else 1)"
   ]
  },
  {
   "cell_type": "code",
   "execution_count": 11,
   "id": "772e6d1a",
   "metadata": {},
   "outputs": [
    {
     "data": {
      "text/plain": [
       "<AxesSubplot:xlabel='has_collection', ylabel='revenue'>"
      ]
     },
     "execution_count": 11,
     "metadata": {},
     "output_type": "execute_result"
    },
    {
     "data": {
      "image/png": "[encoded data removed]",
      "text/plain": [
       "<Figure size 432x288 with 1 Axes>"
      ]
     },
     "metadata": {
      "needs_background": "light"
     },
     "output_type": "display_data"
    }
   ],
   "source": [
    "train.plot(kind=\"scatter\", x=\"has_collection\", y=\"revenue\", alpha=0.2)"
   ]
  },
  {
   "cell_type": "markdown",
   "id": "46b4a436",
   "metadata": {},
   "source": [
    "This could be relevant, considering that most that does not have a collection has a general low revenue."
   ]
  },
  {
   "cell_type": "markdown",
   "id": "b41274f8",
   "metadata": {},
   "source": [
    "### Homepage"
   ]
  },
  {
   "cell_type": "code",
   "execution_count": 12,
   "id": "3808ea9c",
   "metadata": {},
   "outputs": [
    {
     "data": {
      "text/plain": [
       "0                                       NaN\n",
       "1                                       NaN\n",
       "2         http://sonyclassics.com/whiplash/\n",
       "3                http://kahaanithefilm.com/\n",
       "4                                       NaN\n",
       "5                                       NaN\n",
       "6        http://www.thepossessionmovie.com/\n",
       "7                                       NaN\n",
       "8                                       NaN\n",
       "9                                       NaN\n",
       "10                                      NaN\n",
       "11                                      NaN\n",
       "12            http://www.dreamworks.com/ab/\n",
       "13                                      NaN\n",
       "14                                      NaN\n",
       "15    http://skinningmovie.com/synopsis.htm\n",
       "16                                      NaN\n",
       "17                                      NaN\n",
       "18                                      NaN\n",
       "19                                      NaN\n",
       "Name: homepage, dtype: object"
      ]
     },
     "execution_count": 12,
     "metadata": {},
     "output_type": "execute_result"
    }
   ],
   "source": [
    "train[\"homepage\"].head(20)"
   ]
  },
  {
   "cell_type": "markdown",
   "id": "9d930f41",
   "metadata": {},
   "source": [
    "Most movies does not have a homepage, we can make a \"has_homepage\" column, and see of it is relevant."
   ]
  },
  {
   "cell_type": "code",
   "execution_count": 13,
   "id": "929b65b4",
   "metadata": {},
   "outputs": [],
   "source": [
    "train[\"has_homepage\"] = train[\"homepage\"].apply(lambda x: 0 if x is np.nan else 1)\n",
    "test[\"has_homepage\"] = test[\"homepage\"].apply(lambda x: 0 if x is np.nan else 1)"
   ]
  },
  {
   "cell_type": "code",
   "execution_count": 14,
   "id": "7413b8f6",
   "metadata": {},
   "outputs": [
    {
     "data": {
      "text/plain": [
       "<AxesSubplot:xlabel='has_homepage', ylabel='revenue'>"
      ]
     },
     "execution_count": 14,
     "metadata": {},
     "output_type": "execute_result"
    },
    {
     "data": {
      "image/png": "[encoded data removed]",
      "text/plain": [
       "<Figure size 432x288 with 1 Axes>"
      ]
     },
     "metadata": {
      "needs_background": "light"
     },
     "output_type": "display_data"
    }
   ],
   "source": [
    "train.plot(kind=\"scatter\", x=\"has_homepage\", y=\"revenue\", alpha=0.2)"
   ]
  },
  {
   "cell_type": "markdown",
   "id": "0f9b4fd3",
   "metadata": {},
   "source": [
    "This could be relevant, considering that most that does not have a homepage has a general low revenue."
   ]
  },
  {
   "cell_type": "markdown",
   "id": "817eb424",
   "metadata": {},
   "source": [
    "### Original_language"
   ]
  },
  {
   "cell_type": "code",
   "execution_count": 15,
   "id": "d365fef6",
   "metadata": {},
   "outputs": [
    {
     "data": {
      "text/plain": [
       "0     en\n",
       "1     en\n",
       "2     en\n",
       "3     hi\n",
       "4     ko\n",
       "5     en\n",
       "6     en\n",
       "7     en\n",
       "8     en\n",
       "9     en\n",
       "10    en\n",
       "11    en\n",
       "12    en\n",
       "13    en\n",
       "14    en\n",
       "15    sr\n",
       "16    en\n",
       "17    en\n",
       "18    en\n",
       "19    en\n",
       "Name: original_language, dtype: object"
      ]
     },
     "execution_count": 15,
     "metadata": {},
     "output_type": "execute_result"
    }
   ],
   "source": [
    "train[\"original_language\"].head(20)"
   ]
  },
  {
   "cell_type": "markdown",
   "id": "733eb5dc",
   "metadata": {},
   "source": [
    "We see here that most of the movies are in english, and that might be relevant."
   ]
  },
  {
   "cell_type": "code",
   "execution_count": 16,
   "id": "b0270432",
   "metadata": {},
   "outputs": [],
   "source": [
    "train[\"is_en_original_language\"] = train[\"original_language\"].apply(lambda x: 1 if x == \"en\" else 0)\n",
    "test[\"is_en_original_language\"] = test[\"original_language\"].apply(lambda x: 1 if x == \"en\" else 0)"
   ]
  },
  {
   "cell_type": "code",
   "execution_count": 17,
   "id": "6e649757",
   "metadata": {},
   "outputs": [
    {
     "data": {
      "text/plain": [
       "<AxesSubplot:xlabel='is_en_original_language', ylabel='revenue'>"
      ]
     },
     "execution_count": 17,
     "metadata": {},
     "output_type": "execute_result"
    },
    {
     "data": {
      "image/png": "[encoded data removed]",
      "text/plain": [
       "<Figure size 432x288 with 1 Axes>"
      ]
     },
     "metadata": {
      "needs_background": "light"
     },
     "output_type": "display_data"
    }
   ],
   "source": [
    "train.plot(kind=\"scatter\", x=\"is_en_original_language\", y=\"revenue\", alpha=0.2)"
   ]
  },
  {
   "cell_type": "markdown",
   "id": "0eab14a7",
   "metadata": {},
   "source": [
    "Very relevant, we see here that if the movie does not have original language as english it will have a low revenue."
   ]
  },
  {
   "cell_type": "markdown",
   "id": "793bd463",
   "metadata": {},
   "source": [
    "### Genres"
   ]
  },
  {
   "cell_type": "code",
   "execution_count": 10,
   "id": "1b6f07a0",
   "metadata": {},
   "outputs": [
    {
     "data": {
      "text/plain": [
       "0                        [{'id': 35, 'name': 'Comedy'}]\n",
       "1     [{'id': 35, 'name': 'Comedy'}, {'id': 18, 'nam...\n",
       "2                         [{'id': 18, 'name': 'Drama'}]\n",
       "3     [{'id': 53, 'name': 'Thriller'}, {'id': 18, 'n...\n",
       "4     [{'id': 28, 'name': 'Action'}, {'id': 53, 'nam...\n",
       "5     [{'id': 16, 'name': 'Animation'}, {'id': 12, '...\n",
       "6     [{'id': 27, 'name': 'Horror'}, {'id': 53, 'nam...\n",
       "7                   [{'id': 99, 'name': 'Documentary'}]\n",
       "8     [{'id': 28, 'name': 'Action'}, {'id': 35, 'nam...\n",
       "9     [{'id': 35, 'name': 'Comedy'}, {'id': 10402, '...\n",
       "10                        [{'id': 18, 'name': 'Drama'}]\n",
       "11                       [{'id': 35, 'name': 'Comedy'}]\n",
       "12                        [{'id': 18, 'name': 'Drama'}]\n",
       "13    [{'id': 35, 'name': 'Comedy'}, {'id': 80, 'nam...\n",
       "14    [{'id': 28, 'name': 'Action'}, {'id': 53, 'nam...\n",
       "15    [{'id': 28, 'name': 'Action'}, {'id': 80, 'nam...\n",
       "16    [{'id': 27, 'name': 'Horror'}, {'id': 53, 'nam...\n",
       "17    [{'id': 18, 'name': 'Drama'}, {'id': 10749, 'n...\n",
       "18    [{'id': 35, 'name': 'Comedy'}, {'id': 10749, '...\n",
       "19    [{'id': 28, 'name': 'Action'}, {'id': 53, 'nam...\n",
       "Name: genres, dtype: object"
      ]
     },
     "execution_count": 10,
     "metadata": {},
     "output_type": "execute_result"
    }
   ],
   "source": [
    "train[\"genres\"].head(20)"
   ]
  },
  {
   "cell_type": "code",
   "execution_count": 13,
   "id": "02b92f43",
   "metadata": {},
   "outputs": [
    {
     "name": "stdout",
     "output_type": "stream",
     "text": [
      "[{'id': 53, 'name': 'Thriller'}, {'id': 18, 'name': 'Drama'}]\n"
     ]
    }
   ],
   "source": [
    "print(train[\"genres\"][3])"
   ]
  },
  {
   "cell_type": "markdown",
   "id": "117acdd8",
   "metadata": {},
   "source": [
    "We see here that each genre has an ID, so we can take this ID and use that instead."
   ]
  },
  {
   "cell_type": "code",
   "execution_count": 18,
   "id": "9b113795",
   "metadata": {},
   "outputs": [
    {
     "data": {
      "text/plain": [
       "revenue                    1.000000\n",
       "budget                     0.752965\n",
       "popularity                 0.461460\n",
       "has_collection             0.339425\n",
       "has_homepage               0.263179\n",
       "runtime                    0.216380\n",
       "is_en_original_language    0.142130\n",
       "id                         0.000610\n",
       "Name: revenue, dtype: float64"
      ]
     },
     "execution_count": 18,
     "metadata": {},
     "output_type": "execute_result"
    }
   ],
   "source": [
    "corr_matrix = train.corr()\n",
    "corr_matrix[\"revenue\"].sort_values(ascending=False)"
   ]
  },
  {
   "cell_type": "markdown",
   "id": "dcba4399",
   "metadata": {},
   "source": [
    "Here we check the correlation with revenue."
   ]
  },
  {
   "cell_type": "code",
   "execution_count": 19,
   "id": "5e325a05",
   "metadata": {},
   "outputs": [],
   "source": [
    "train_labels = train[\"revenue\"].copy()\n",
    "train = train.drop(\"revenue\", axis=1)\n",
    "\n",
    "df = pd.DataFrame(train)\n",
    "df = df.select_dtypes(exclude=['object'])\n",
    "train_num = df.drop('id', axis=1)\n",
    "\n",
    "\n",
    "df_test = pd.DataFrame(test)\n",
    "df_test = df_test.select_dtypes(exclude=['object'])\n",
    "test_num = df_test.drop('id', axis=1)"
   ]
  },
  {
   "cell_type": "markdown",
   "id": "6536a5ec",
   "metadata": {},
   "source": [
    "We remove all objects from the sets that we are going to train and test our model on."
   ]
  },
  {
   "cell_type": "code",
   "execution_count": 20,
   "id": "2f406be6",
   "metadata": {},
   "outputs": [],
   "source": [
    "from sklearn.impute import SimpleImputer \n",
    "imputer = SimpleImputer(strategy=\"median\")"
   ]
  },
  {
   "cell_type": "code",
   "execution_count": 21,
   "id": "451fd97c",
   "metadata": {},
   "outputs": [
    {
     "data": {
      "text/plain": [
       "SimpleImputer(strategy='median')"
      ]
     },
     "execution_count": 21,
     "metadata": {},
     "output_type": "execute_result"
    }
   ],
   "source": [
    "imputer.fit(df)"
   ]
  },
  {
   "cell_type": "markdown",
   "id": "ff2b5874",
   "metadata": {},
   "source": [
    "# transformatin pipeline"
   ]
  },
  {
   "cell_type": "code",
   "execution_count": 22,
   "id": "0172d1fe",
   "metadata": {},
   "outputs": [],
   "source": [
    "train_num_attribs = list(train_num)"
   ]
  },
  {
   "cell_type": "code",
   "execution_count": 23,
   "id": "c3b3fed0",
   "metadata": {},
   "outputs": [
    {
     "data": {
      "text/html": [
       "<div>\n",
       "<style scoped>\n",
       "    .dataframe tbody tr th:only-of-type {\n",
       "        vertical-align: middle;\n",
       "    }\n",
       "\n",
       "    .dataframe tbody tr th {\n",
       "        vertical-align: top;\n",
       "    }\n",
       "\n",
       "    .dataframe thead th {\n",
       "        text-align: right;\n",
       "    }\n",
       "</style>\n",
       "<table border=\"1\" class=\"dataframe\">\n",
       "  <thead>\n",
       "    <tr style=\"text-align: right;\">\n",
       "      <th></th>\n",
       "      <th>budget</th>\n",
       "      <th>popularity</th>\n",
       "      <th>runtime</th>\n",
       "      <th>has_collection</th>\n",
       "      <th>has_homepage</th>\n",
       "      <th>is_en_original_language</th>\n",
       "    </tr>\n",
       "  </thead>\n",
       "  <tbody>\n",
       "    <tr>\n",
       "      <th>0</th>\n",
       "      <td>14000000</td>\n",
       "      <td>6.575393</td>\n",
       "      <td>93.0</td>\n",
       "      <td>1</td>\n",
       "      <td>0</td>\n",
       "      <td>1</td>\n",
       "    </tr>\n",
       "    <tr>\n",
       "      <th>1</th>\n",
       "      <td>40000000</td>\n",
       "      <td>8.248895</td>\n",
       "      <td>113.0</td>\n",
       "      <td>1</td>\n",
       "      <td>0</td>\n",
       "      <td>1</td>\n",
       "    </tr>\n",
       "    <tr>\n",
       "      <th>2</th>\n",
       "      <td>3300000</td>\n",
       "      <td>64.299990</td>\n",
       "      <td>105.0</td>\n",
       "      <td>0</td>\n",
       "      <td>1</td>\n",
       "      <td>1</td>\n",
       "    </tr>\n",
       "    <tr>\n",
       "      <th>3</th>\n",
       "      <td>1200000</td>\n",
       "      <td>3.174936</td>\n",
       "      <td>122.0</td>\n",
       "      <td>0</td>\n",
       "      <td>1</td>\n",
       "      <td>0</td>\n",
       "    </tr>\n",
       "    <tr>\n",
       "      <th>4</th>\n",
       "      <td>0</td>\n",
       "      <td>1.148070</td>\n",
       "      <td>118.0</td>\n",
       "      <td>0</td>\n",
       "      <td>0</td>\n",
       "      <td>0</td>\n",
       "    </tr>\n",
       "  </tbody>\n",
       "</table>\n",
       "</div>"
      ],
      "text/plain": [
       "     budget  popularity  runtime  has_collection  has_homepage  \\\n",
       "0  14000000    6.575393     93.0               1             0   \n",
       "1  40000000    8.248895    113.0               1             0   \n",
       "2   3300000   64.299990    105.0               0             1   \n",
       "3   1200000    3.174936    122.0               0             1   \n",
       "4         0    1.148070    118.0               0             0   \n",
       "\n",
       "   is_en_original_language  \n",
       "0                        1  \n",
       "1                        1  \n",
       "2                        1  \n",
       "3                        0  \n",
       "4                        0  "
      ]
     },
     "execution_count": 23,
     "metadata": {},
     "output_type": "execute_result"
    }
   ],
   "source": [
    "train_num.head()"
   ]
  },
  {
   "cell_type": "code",
   "execution_count": 24,
   "id": "d686cd40",
   "metadata": {},
   "outputs": [
    {
     "data": {
      "text/html": [
       "<div>\n",
       "<style scoped>\n",
       "    .dataframe tbody tr th:only-of-type {\n",
       "        vertical-align: middle;\n",
       "    }\n",
       "\n",
       "    .dataframe tbody tr th {\n",
       "        vertical-align: top;\n",
       "    }\n",
       "\n",
       "    .dataframe thead th {\n",
       "        text-align: right;\n",
       "    }\n",
       "</style>\n",
       "<table border=\"1\" class=\"dataframe\">\n",
       "  <thead>\n",
       "    <tr style=\"text-align: right;\">\n",
       "      <th></th>\n",
       "      <th>budget</th>\n",
       "      <th>popularity</th>\n",
       "      <th>runtime</th>\n",
       "      <th>has_collection</th>\n",
       "      <th>has_homepage</th>\n",
       "      <th>is_en_original_language</th>\n",
       "    </tr>\n",
       "  </thead>\n",
       "  <tbody>\n",
       "    <tr>\n",
       "      <th>0</th>\n",
       "      <td>0</td>\n",
       "      <td>3.851534</td>\n",
       "      <td>90.0</td>\n",
       "      <td>1</td>\n",
       "      <td>1</td>\n",
       "      <td>0</td>\n",
       "    </tr>\n",
       "    <tr>\n",
       "      <th>1</th>\n",
       "      <td>88000</td>\n",
       "      <td>3.559789</td>\n",
       "      <td>65.0</td>\n",
       "      <td>0</td>\n",
       "      <td>0</td>\n",
       "      <td>1</td>\n",
       "    </tr>\n",
       "    <tr>\n",
       "      <th>2</th>\n",
       "      <td>0</td>\n",
       "      <td>8.085194</td>\n",
       "      <td>100.0</td>\n",
       "      <td>0</td>\n",
       "      <td>0</td>\n",
       "      <td>1</td>\n",
       "    </tr>\n",
       "    <tr>\n",
       "      <th>3</th>\n",
       "      <td>6800000</td>\n",
       "      <td>8.596012</td>\n",
       "      <td>130.0</td>\n",
       "      <td>0</td>\n",
       "      <td>1</td>\n",
       "      <td>0</td>\n",
       "    </tr>\n",
       "    <tr>\n",
       "      <th>4</th>\n",
       "      <td>2000000</td>\n",
       "      <td>3.217680</td>\n",
       "      <td>92.0</td>\n",
       "      <td>0</td>\n",
       "      <td>0</td>\n",
       "      <td>1</td>\n",
       "    </tr>\n",
       "  </tbody>\n",
       "</table>\n",
       "</div>"
      ],
      "text/plain": [
       "    budget  popularity  runtime  has_collection  has_homepage  \\\n",
       "0        0    3.851534     90.0               1             1   \n",
       "1    88000    3.559789     65.0               0             0   \n",
       "2        0    8.085194    100.0               0             0   \n",
       "3  6800000    8.596012    130.0               0             1   \n",
       "4  2000000    3.217680     92.0               0             0   \n",
       "\n",
       "   is_en_original_language  \n",
       "0                        0  \n",
       "1                        1  \n",
       "2                        1  \n",
       "3                        0  \n",
       "4                        1  "
      ]
     },
     "execution_count": 24,
     "metadata": {},
     "output_type": "execute_result"
    }
   ],
   "source": [
    "test_num.head()"
   ]
  },
  {
   "cell_type": "code",
   "execution_count": 25,
   "id": "4aaca281",
   "metadata": {},
   "outputs": [],
   "source": [
    "from sklearn.pipeline import Pipeline\n",
    "from sklearn.preprocessing import StandardScaler\n",
    "num_pipeline = Pipeline([\n",
    "        ('imputer', SimpleImputer(strategy=\"median\")),\n",
    "        ('std_scaler', StandardScaler()),\n",
    "    ])"
   ]
  },
  {
   "cell_type": "code",
   "execution_count": 26,
   "id": "b65ec359",
   "metadata": {},
   "outputs": [],
   "source": [
    "from sklearn.compose import ColumnTransformer \n",
    "from sklearn.preprocessing import OneHotEncoder\n",
    "num_attribs = list(train_num)\n",
    "full_pipeline = ColumnTransformer([\n",
    "        (\"num\", num_pipeline, num_attribs),\n",
    "    ])\n",
    "train_num_tr = full_pipeline.fit_transform(train_num)\n",
    "test_num_tr = full_pipeline.transform(test_num)"
   ]
  },
  {
   "cell_type": "code",
   "execution_count": 60,
   "id": "ffbd78dc",
   "metadata": {},
   "outputs": [
    {
     "data": {
      "text/plain": [
       "((3000, 6), (4398, 6))"
      ]
     },
     "execution_count": 60,
     "metadata": {},
     "output_type": "execute_result"
    }
   ],
   "source": [
    "train_num_tr.shape, test_num_tr.shape"
   ]
  },
  {
   "cell_type": "markdown",
   "id": "0fdcd2f5",
   "metadata": {},
   "source": [
    "# Testing and evaluating different models"
   ]
  },
  {
   "cell_type": "code",
   "execution_count": 29,
   "id": "e28ad196",
   "metadata": {},
   "outputs": [
    {
     "data": {
      "text/plain": [
       "KNeighborsClassifier(n_neighbors=2)"
      ]
     },
     "execution_count": 29,
     "metadata": {},
     "output_type": "execute_result"
    }
   ],
   "source": [
    "X = train_num_tr\n",
    "y = train_labels\n",
    "from sklearn.neighbors import KNeighborsClassifier\n",
    "neigh = KNeighborsClassifier(n_neighbors=2)\n",
    "neigh.fit(X, y)"
   ]
  },
  {
   "cell_type": "code",
   "execution_count": 30,
   "id": "0e21b812",
   "metadata": {},
   "outputs": [
    {
     "data": {
      "text/plain": [
       "LinearRegression()"
      ]
     },
     "execution_count": 30,
     "metadata": {},
     "output_type": "execute_result"
    }
   ],
   "source": [
    "from sklearn.linear_model import LinearRegression \n",
    "lin_reg = LinearRegression()\n",
    "lin_reg.fit(X, y)"
   ]
  },
  {
   "cell_type": "code",
   "execution_count": 31,
   "id": "1bc36ee5",
   "metadata": {},
   "outputs": [],
   "source": [
    "#from sklearn.linear_model import SGDClassifier\n",
    "#SGD = SGDClassifier(loss=\"hinge\", penalty=\"l2\", max_iter=100)\n",
    "#SGD.fit(X, y)"
   ]
  },
  {
   "cell_type": "code",
   "execution_count": 32,
   "id": "f62aa870",
   "metadata": {},
   "outputs": [],
   "source": [
    "#from sklearn.linear_model import LogisticRegression \n",
    "#log_reg = LogisticRegression(max_iter=500)\n",
    "#log_reg.fit(X, y)"
   ]
  },
  {
   "cell_type": "code",
   "execution_count": 33,
   "id": "7c34220b",
   "metadata": {},
   "outputs": [
    {
     "data": {
      "text/plain": [
       "RandomForestRegressor(random_state=69)"
      ]
     },
     "execution_count": 33,
     "metadata": {},
     "output_type": "execute_result"
    }
   ],
   "source": [
    "from sklearn.ensemble import RandomForestRegressor\n",
    "forest_reg = RandomForestRegressor(random_state=69)\n",
    "forest_reg.fit(X, y)"
   ]
  },
  {
   "cell_type": "markdown",
   "id": "406908d9",
   "metadata": {},
   "source": [
    "### Trying out voting classifier \n",
    "combining Random Forest, Logistic regression and SVC."
   ]
  },
  {
   "cell_type": "code",
   "execution_count": 34,
   "id": "21dd6f7b",
   "metadata": {},
   "outputs": [],
   "source": [
    "#from sklearn.ensemble import RandomForestClassifier \n",
    "#from sklearn.ensemble import VotingClassifier\n",
    "#from sklearn.svm import SVC\n",
    "#log_clf = LogisticRegression(max_iter=500)\n",
    "#rnd_clf = RandomForestClassifier()\n",
    "#svm_clf = SVC()\n",
    "#voting_clf = VotingClassifier(estimators=[('lr', log_clf), ('rf', rnd_clf), ('svc', svm_clf)],voting='hard')\n",
    "#voting_clf.fit(X, y)"
   ]
  },
  {
   "cell_type": "markdown",
   "id": "1d22af17",
   "metadata": {},
   "source": [
    "#### compairing mean squared error"
   ]
  },
  {
   "cell_type": "code",
   "execution_count": 35,
   "id": "d2c45ed3",
   "metadata": {},
   "outputs": [],
   "source": [
    "#log_reg_predictions = log_reg.predict(X)\n",
    "#log_reg_mse = mean_squared_error(y, log_reg_predictions)\n",
    "#log_reg_rmse = np.sqrt(log_reg_mse)\n",
    "#log_reg_rmse"
   ]
  },
  {
   "cell_type": "code",
   "execution_count": 36,
   "id": "1f6b6a7c",
   "metadata": {},
   "outputs": [
    {
     "data": {
      "text/plain": [
       "74181169.65586697"
      ]
     },
     "execution_count": 36,
     "metadata": {},
     "output_type": "execute_result"
    }
   ],
   "source": [
    "from sklearn.metrics import mean_squared_error\n",
    "knn_predictions = neigh.predict(X)\n",
    "knn_mse = mean_squared_error(y, knn_predictions)\n",
    "knn_rmse = np.sqrt(knn_mse)\n",
    "knn_rmse"
   ]
  },
  {
   "cell_type": "code",
   "execution_count": 37,
   "id": "9f4fd3b6",
   "metadata": {},
   "outputs": [
    {
     "data": {
      "text/plain": [
       "81998966.11005983"
      ]
     },
     "execution_count": 37,
     "metadata": {},
     "output_type": "execute_result"
    }
   ],
   "source": [
    "lin_predictions = lin_reg.predict(X)\n",
    "lin_mse = mean_squared_error(y, lin_predictions)\n",
    "lin_rmse = np.sqrt(lin_mse)\n",
    "lin_rmse"
   ]
  },
  {
   "cell_type": "code",
   "execution_count": 38,
   "id": "e8299090",
   "metadata": {},
   "outputs": [],
   "source": [
    "#SGD_predictions = SGD.predict(X)\n",
    "#SGD_mse = mean_squared_error(y, SGD_predictions)\n",
    "#SGD_rmse = np.sqrt(SGD_mse)\n",
    "#SGD_rmse"
   ]
  },
  {
   "cell_type": "code",
   "execution_count": 39,
   "id": "4db9e936",
   "metadata": {},
   "outputs": [
    {
     "data": {
      "text/plain": [
       "29915831.940722622"
      ]
     },
     "execution_count": 39,
     "metadata": {},
     "output_type": "execute_result"
    }
   ],
   "source": [
    "forest_reg_predictions = forest_reg.predict(X)\n",
    "forest_mse = mean_squared_error(y, forest_reg_predictions)\n",
    "forest_rmse = np.sqrt(forest_mse)\n",
    "forest_rmse"
   ]
  },
  {
   "cell_type": "code",
   "execution_count": 40,
   "id": "1f17283f",
   "metadata": {},
   "outputs": [],
   "source": [
    "#voting_clf_prediction = voting_clf.predict(X)\n",
    "#voting_mse = mean_squared_error(y, voting_clf_prediction)\n",
    "#voting_rmse = np.sqrt(voting_mse)\n",
    "#voting_rmse"
   ]
  },
  {
   "cell_type": "markdown",
   "id": "8fcd1249",
   "metadata": {},
   "source": [
    "## Evaluation\n",
    "evaluetes the two best models."
   ]
  },
  {
   "cell_type": "code",
   "execution_count": 41,
   "id": "fe8a0f8d",
   "metadata": {},
   "outputs": [],
   "source": [
    "def display_scores(scores):\n",
    "    print(\"Scores:\", scores)\n",
    "    print(\"Mean:\", scores.mean())\n",
    "    print(\"Standard deviation:\", scores.std())"
   ]
  },
  {
   "cell_type": "code",
   "execution_count": 42,
   "id": "db1aedf7",
   "metadata": {},
   "outputs": [
    {
     "name": "stdout",
     "output_type": "stream",
     "text": [
      "Scores: [70727057.10462387 72057862.66225892 93708565.90318725 73319735.59729356\n",
      " 80495894.31276534 92356908.14433174 67691447.07522611 84367527.58324549\n",
      " 81499984.11648916 73443736.41817655]\n",
      "Mean: 78966871.89175978\n",
      "Standard deviation: 8600532.524312096\n"
     ]
    }
   ],
   "source": [
    "from sklearn.model_selection import cross_val_score\n",
    "\n",
    "forest_scores = cross_val_score(forest_reg, X, y, scoring='neg_mean_squared_error', cv=10)\n",
    "forest_rmse_scores = np.sqrt(-forest_scores)\n",
    "display_scores(forest_rmse_scores)"
   ]
  },
  {
   "cell_type": "code",
   "execution_count": 43,
   "id": "d245b3fd",
   "metadata": {},
   "outputs": [
    {
     "name": "stdout",
     "output_type": "stream",
     "text": [
      "Scores: [82967813.53870983 84728358.89087388 91227342.75551724 81637004.4667749\n",
      " 74810659.26209462 95305313.33589153 67997502.89010401 79824844.9072222\n",
      " 85164378.45514229 79425421.77078022]\n",
      "Mean: 82308864.02731107\n",
      "Standard deviation: 7340730.2617816795\n"
     ]
    }
   ],
   "source": [
    "lin_scores = cross_val_score(lin_reg, X, y, scoring=\"neg_mean_squared_error\", cv=10)\n",
    "lin_rmse_scores = np.sqrt(-lin_scores)\n",
    "display_scores(lin_rmse_scores)"
   ]
  },
  {
   "cell_type": "markdown",
   "id": "e5753f66",
   "metadata": {},
   "source": [
    "# Fine tuning the best model"
   ]
  },
  {
   "cell_type": "code",
   "execution_count": 59,
   "id": "5ca0376f",
   "metadata": {},
   "outputs": [
    {
     "data": {
      "text/plain": [
       "RandomizedSearchCV(cv=5, estimator=RandomForestRegressor(random_state=69),\n",
       "                   param_distributions={'max_features': <scipy.stats._distn_infrastructure.rv_frozen object at 0x121229a00>,\n",
       "                                        'n_estimators': <scipy.stats._distn_infrastructure.rv_frozen object at 0x114973700>,\n",
       "                                        'n_jobs': [-1]},\n",
       "                   random_state=69, scoring='neg_mean_squared_error')"
      ]
     },
     "execution_count": 59,
     "metadata": {},
     "output_type": "execute_result"
    }
   ],
   "source": [
    "from sklearn.model_selection import RandomizedSearchCV\n",
    "from scipy.stats import randint\n",
    "\n",
    "param_distribs = {\n",
    "        'n_estimators': randint(low=1, high=200),\n",
    "        'max_features': randint(low=1, high=6),\n",
    "        'n_jobs': [-1]\n",
    "    }\n",
    "\n",
    "forest_reg = RandomForestRegressor(random_state=69)\n",
    "\n",
    "rnd_search = RandomizedSearchCV(\n",
    "                forest_reg, \n",
    "                param_distributions=param_distribs,\n",
    "                n_iter=10, \n",
    "                cv=5, \n",
    "                scoring='neg_mean_squared_error', \n",
    "                random_state=69\n",
    "            )\n",
    "\n",
    "rnd_search.fit(X, y)"
   ]
  },
  {
   "cell_type": "code",
   "execution_count": 55,
   "id": "9a25493f",
   "metadata": {},
   "outputs": [
    {
     "name": "stdout",
     "output_type": "stream",
     "text": [
      "78459678.48063011 {'max_features': 4, 'n_estimators': 108}\n",
      "77782643.34093626 {'max_features': 3, 'n_estimators': 184}\n",
      "79409845.02557363 {'max_features': 5, 'n_estimators': 50}\n",
      "78357995.56475231 {'max_features': 2, 'n_estimators': 185}\n",
      "79522732.51161508 {'max_features': 2, 'n_estimators': 39}\n",
      "78630885.37551832 {'max_features': 1, 'n_estimators': 89}\n",
      "79116385.67100488 {'max_features': 5, 'n_estimators': 166}\n",
      "77950393.51024224 {'max_features': 3, 'n_estimators': 76}\n",
      "78431099.66890533 {'max_features': 4, 'n_estimators': 81}\n",
      "93810059.75347586 {'max_features': 1, 'n_estimators': 3}\n"
     ]
    }
   ],
   "source": [
    "cvres = rnd_search.cv_results_\n",
    "for mean_score, params in zip(cvres[\"mean_test_score\"], cvres[\"params\"]):\n",
    "    print(np.sqrt(-mean_score), params)"
   ]
  },
  {
   "cell_type": "code",
   "execution_count": 56,
   "id": "d2e9bcdf",
   "metadata": {},
   "outputs": [
    {
     "data": {
      "text/plain": [
       "array([0.49486839, 0.29200731, 0.12620669, 0.05869679, 0.02412039,\n",
       "       0.00410043])"
      ]
     },
     "execution_count": 56,
     "metadata": {},
     "output_type": "execute_result"
    }
   ],
   "source": [
    "feature_importances = rnd_search.best_estimator_.feature_importances_\n",
    "feature_importances"
   ]
  },
  {
   "cell_type": "code",
   "execution_count": 57,
   "id": "b0218ffc",
   "metadata": {},
   "outputs": [
    {
     "data": {
      "text/plain": [
       "[(0.494868387721973, 'budget'),\n",
       " (0.29200731426123916, 'popularity'),\n",
       " (0.12620669021414788, 'runtime'),\n",
       " (0.058696791380321064, 'has_collection'),\n",
       " (0.024120385853115035, 'has_homepage'),\n",
       " (0.004100430569203935, 'is_en_original_language')]"
      ]
     },
     "execution_count": 57,
     "metadata": {},
     "output_type": "execute_result"
    }
   ],
   "source": [
    "sorted(zip(feature_importances, num_attribs), reverse=True)"
   ]
  },
  {
   "cell_type": "code",
   "execution_count": 58,
   "id": "e7cae2a6",
   "metadata": {},
   "outputs": [
    {
     "data": {
      "text/plain": [
       "{'max_features': 3, 'n_estimators': 184}"
      ]
     },
     "execution_count": 58,
     "metadata": {},
     "output_type": "execute_result"
    }
   ],
   "source": [
    "rnd_search.best_params_"
   ]
  },
  {
   "cell_type": "markdown",
   "id": "b5be2f62",
   "metadata": {},
   "source": [
    "# Final model"
   ]
  },
  {
   "cell_type": "code",
   "execution_count": 49,
   "id": "062bfe1e",
   "metadata": {},
   "outputs": [],
   "source": [
    "final_model = rnd_search.best_estimator_\n",
    "final_predictions_S =  final_model.predict(test_num_tr)"
   ]
  },
  {
   "cell_type": "code",
   "execution_count": 50,
   "id": "eb0d23bf",
   "metadata": {},
   "outputs": [
    {
     "data": {
      "text/plain": [
       "4398"
      ]
     },
     "execution_count": 50,
     "metadata": {},
     "output_type": "execute_result"
    }
   ],
   "source": [
    "len(final_predictions_S)"
   ]
  },
  {
   "cell_type": "code",
   "execution_count": 51,
   "id": "57065d27",
   "metadata": {},
   "outputs": [],
   "source": [
    "submission = pd.DataFrame({\n",
    "    'id': test_id,\n",
    "    'revenue': final_predictions_S\n",
    "})"
   ]
  },
  {
   "cell_type": "code",
   "execution_count": 52,
   "id": "e2e7237c",
   "metadata": {},
   "outputs": [
    {
     "data": {
      "text/html": [
       "<div>\n",
       "<style scoped>\n",
       "    .dataframe tbody tr th:only-of-type {\n",
       "        vertical-align: middle;\n",
       "    }\n",
       "\n",
       "    .dataframe tbody tr th {\n",
       "        vertical-align: top;\n",
       "    }\n",
       "\n",
       "    .dataframe thead th {\n",
       "        text-align: right;\n",
       "    }\n",
       "</style>\n",
       "<table border=\"1\" class=\"dataframe\">\n",
       "  <thead>\n",
       "    <tr style=\"text-align: right;\">\n",
       "      <th></th>\n",
       "      <th>id</th>\n",
       "      <th>revenue</th>\n",
       "    </tr>\n",
       "  </thead>\n",
       "  <tbody>\n",
       "    <tr>\n",
       "      <th>0</th>\n",
       "      <td>3001</td>\n",
       "      <td>2.313467e+07</td>\n",
       "    </tr>\n",
       "    <tr>\n",
       "      <th>1</th>\n",
       "      <td>3002</td>\n",
       "      <td>3.991075e+06</td>\n",
       "    </tr>\n",
       "    <tr>\n",
       "      <th>2</th>\n",
       "      <td>3003</td>\n",
       "      <td>5.561144e+06</td>\n",
       "    </tr>\n",
       "    <tr>\n",
       "      <th>3</th>\n",
       "      <td>3004</td>\n",
       "      <td>2.813316e+07</td>\n",
       "    </tr>\n",
       "    <tr>\n",
       "      <th>4</th>\n",
       "      <td>3005</td>\n",
       "      <td>5.768237e+06</td>\n",
       "    </tr>\n",
       "  </tbody>\n",
       "</table>\n",
       "</div>"
      ],
      "text/plain": [
       "     id       revenue\n",
       "0  3001  2.313467e+07\n",
       "1  3002  3.991075e+06\n",
       "2  3003  5.561144e+06\n",
       "3  3004  2.813316e+07\n",
       "4  3005  5.768237e+06"
      ]
     },
     "execution_count": 52,
     "metadata": {},
     "output_type": "execute_result"
    }
   ],
   "source": [
    "submission.head()"
   ]
  },
  {
   "cell_type": "code",
   "execution_count": 53,
   "id": "aa8ee8da",
   "metadata": {},
   "outputs": [],
   "source": [
    "submission.to_csv('submission.csv', index=False)"
   ]
  },
  {
   "cell_type": "markdown",
   "id": "1a85f952",
   "metadata": {},
   "source": [
    "On our first submission, we tried out alot of models. We tried out KNN, stochastic gradient decent, logastic regression, linear regression, random forest regressor. We tried to just remove all objects to only have floats left. We found out that budget was a really good attribute and used that primarily. With only the float coloubs left, random forest regressor was the best model. On this submission we got 2.66307.\n",
    "\n",
    "On our second submission, we added has_collection and has_homepage, in addition to a randomstate to the random forest regressor. We got 2.63794\n",
    "\n",
    "On our third submission, we removed oneHotEncoder, and fixed our pipelining. We got a score of 2.60296.\n",
    "\n",
    "On our fourth submission, we added is_en_original_language. We got a score of 2.61122."
   ]
  },
  {
   "cell_type": "code",
   "execution_count": null,
   "id": "ccc2e555",
   "metadata": {},
   "outputs": [],
   "source": []
  }
 ],
 "metadata": {
  "kernelspec": {
   "display_name": "Python 3 (ipykernel)",
   "language": "python",
   "name": "python3"
  },
  "language_info": {
   "codemirror_mode": {
    "name": "ipython",
    "version": 3
   },
   "file_extension": ".py",
   "mimetype": "text/x-python",
   "name": "python",
   "nbconvert_exporter": "python",
   "pygments_lexer": "ipython3",
   "version": "3.8.9"
  }
 },
 "nbformat": 4,
 "nbformat_minor": 5
}
